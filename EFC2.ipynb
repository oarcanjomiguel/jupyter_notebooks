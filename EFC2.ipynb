{
 "cells": [
  {
   "cell_type": "markdown",
   "metadata": {},
   "source": [
    "# EFC 2\n",
    "## Nome: Miguel Nakajima Marques\n",
    "## R.A.: 210433\n",
    "\n",
    "### Questão 3\n",
    "O objetivo do presente trabalho é propor uma arquitetura de rede que seja melhor que a proposta original apresentada no enunciado do EFC.\n",
    "Média da taxa de acerto de 5 MLPs na configuração original, como proposto originalmente no enunciado:\n",
    "```\n",
    "model = tf.keras.models.Sequential([\n",
    " tf.keras.layers.Flatten(),\n",
    " tf.keras.layers.Dense(512, activation=tf.nn.relu),\n",
    " tf.keras.layers.Dropout(0.5),\n",
    " tf.keras.layers.Dense(10, activation=tf.nn.softmax)\n",
    "])\n",
    "model.compile(optimizer='adam',\n",
    " loss='sparse_categorical_crossentropy',\n",
    " metrics=['accuracy'])\n",
    "model.fit(x_train, y_train, epochs=5)\n",
    "model.evaluate(x_test, y_test)\n",
    "```\n",
    "Taxa de acerto média de 5 MLPs com as configurações originais: 0.9911600112915039"
   ]
  },
  {
   "cell_type": "markdown",
   "metadata": {},
   "source": [
    "Primeiro vamos importar as bibliotecas que serão utilizadas nessa análise:"
   ]
  },
  {
   "cell_type": "code",
   "execution_count": null,
   "metadata": {},
   "outputs": [],
   "source": [
    "import tensorflow as tf\n",
    "import os\n",
    "mnist = tf.keras.datasets.mnist"
   ]
  },
  {
   "cell_type": "markdown",
   "metadata": {},
   "source": [
    "Agora vamos determinar alguns parâmetros e constantes que serão usados no programa:"
   ]
  },
  {
   "cell_type": "code",
   "execution_count": null,
   "metadata": {},
   "outputs": [],
   "source": [
    "EPOCAS = 20\n",
    "EPOCAS_ORIGINAL = 5\n",
    "QUANTIDADE_REDES = 5\n",
    "DROPOUT = 0.2\n",
    "QUANTIDADE_NEURONIOS = 512"
   ]
  },
  {
   "cell_type": "markdown",
   "metadata": {},
   "source": [
    "Vamos carregar as amostras de treinamento e validação em variáveis que serão usadas no programa:"
   ]
  },
  {
   "cell_type": "code",
   "execution_count": null,
   "metadata": {},
   "outputs": [],
   "source": [
    "(x_train, y_train),(x_test,y_test)=mnist.load_data()\n",
    "x_train,x_test = x_train/255.0, x_test/255.0"
   ]
  },
  {
   "cell_type": "markdown",
   "metadata": {},
   "source": [
    "Agora vamos configurar a MLP candidata:\n",
    "* número de camadas intermediárias: 2 \n",
    "* número de neurônios por camada intermediária: 512\n",
    "* algoritmo de ajustes de pesos: sparse categorical crossentropy\n",
    "* taxa de dropout: 0.2\n",
    "* número de épocas de treinamento: 20\n",
    "\n",
    "Justificativas para as alterações sugeridas:\n",
    "* Visto que nas últimas épocas de treinamento do modelo original ainda houve alteração na performance, aumentar o número de épocas de treinamento pode melhorar ainda mais a performance\n",
    "* Um dropout que causa metade dos neurônios estarem desativados durante uma dada iteração do treinamento diminui pela metade o número de épocas de treinamento que um neurônio será ajustado. Dado um número baixo de épocas de treinamento (5 épocas, no modelo original) isso pode fazer com que um dado neurônio seja ajustado em média somente duas vezes em todo treinamento\n",
    "Vamos treinar várias redes com a mesma configuração e extrair a média das performances:"
   ]
  },
  {
   "cell_type": "code",
   "execution_count": null,
   "metadata": {},
   "outputs": [],
   "source": [
    "resultados = []\n",
    "for i in range(QUANTIDADE_REDES):\n",
    "    \n",
    "    model = tf.keras.models.Sequential([\n",
    "        tf.keras.layers.Flatten(),\n",
    "        tf.keras.layers.Dense(QUANTIDADE_NEURONIOS,activation=tf.nn.relu),\n",
    "        tf.keras.layers.Dropout(DROPOUT),\n",
    "        tf.keras.layers.Dense(QUANTIDADE_NEURONIOS,activation=tf.nn.relu),\n",
    "        tf.keras.layers.Dropout(DROPOUT),\n",
    "        tf.keras.layers.Dense(10, activation=tf.nn.softmax)\n",
    "    ])\n",
    "    model.compile(optimizer='adam',\n",
    "                 loss='sparse_categorical_crossentropy',\n",
    "                 metrics=['accuracy'])\n",
    "\n",
    "    model.fit(x_train, y_train, epochs=EPOCAS)\n",
    "    resultados.append(model.evaluate(x_test,y_test))\n"
   ]
  },
  {
   "cell_type": "code",
   "execution_count": null,
   "metadata": {
    "scrolled": true
   },
   "outputs": [],
   "source": [
    "print(resultados)"
   ]
  },
  {
   "cell_type": "markdown",
   "metadata": {},
   "source": [
    "Vamos agora calcular a média dos resultados obtidos:"
   ]
  },
  {
   "cell_type": "code",
   "execution_count": null,
   "metadata": {},
   "outputs": [],
   "source": [
    "media = 0\n",
    "for resultado in resultados:\n",
    "    media += resultado[1]/len(resultados)\n",
    "print(media)"
   ]
  },
  {
   "cell_type": "code",
   "execution_count": null,
   "metadata": {},
   "outputs": [],
   "source": [
    "model_json = model.to_json()\n",
    "json_file = open(\"model_MLP.json\", \"w\")\n",
    "json_file.write(model_json)\n",
    "json_file.close()\n",
    "model.save_weights(\"model_MLP.h5\")\n",
    "print(\"Model saved to disk\")\n",
    "os.getcwd()"
   ]
  },
  {
   "cell_type": "markdown",
   "metadata": {},
   "source": [
    "Taxa de acerto média com a nova configuração sugerida: 0.9825999975204467\n"
   ]
  },
  {
   "cell_type": "markdown",
   "metadata": {},
   "source": [
    "### Questão 4\n",
    "\n",
    "Nesa questão iremos abordar o mesmo problema da questão 3 porém utilizando uma rede neural convolucional (CNN).\n",
    "\n",
    "A rede proposta no enunciado tem performace média entre 5 execuções de 0.9911600112915039\n",
    "\n",
    "Dado que as bibliotecas e amostras necessárias (tensorflow e keras/mnist) já foram carregas, vamos para as etapas seguintes:"
   ]
  },
  {
   "cell_type": "code",
   "execution_count": null,
   "metadata": {},
   "outputs": [],
   "source": [
    "x_train = x_train.reshape(x_train.shape[0], 28, 28, 1)\n",
    "x_test = x_test.reshape(x_test.shape[0], 28, 28, 1)\n",
    "x_train, x_test = x_train / 255.0, x_test / 255.0"
   ]
  },
  {
   "cell_type": "markdown",
   "metadata": {},
   "source": [
    "Vamos definir o modelo da rede neural a ser utilizada:"
   ]
  },
  {
   "cell_type": "code",
   "execution_count": null,
   "metadata": {},
   "outputs": [],
   "source": [
    "EPOCAS_Q4 = 12\n",
    "QUANTIDADE_REDES_Q4 = 1"
   ]
  },
  {
   "cell_type": "markdown",
   "metadata": {},
   "source": [
    "Apesar da performance da rede sugerida no enunciado já ser alta (99,12%), talvez seja possível melhorar ainda mais a performance fazendo alguns ajustes no modelo.\n",
    "\n",
    "Motivos para as alterações no modelo do enunciado:\n",
    "* O aumento no número de épocas foi sugerido pois a taxa de acerto entre as épocas ainda estava crescendo entre as épocas 4 e 5, assim sendo, dando mais épocas para o treinamento, é possível que se obtenha uma rede melhor"
   ]
  },
  {
   "cell_type": "code",
   "execution_count": null,
   "metadata": {},
   "outputs": [],
   "source": [
    "resultados_q4 = []\n",
    "for i in range(QUANTIDADE_REDES_Q4):\n",
    "    model = tf.keras.models.Sequential()\n",
    "    model.add(tf.keras.layers.Conv2D(32, kernel_size=(3, 3),\n",
    "                                     activation='relu',\n",
    "                                     input_shape=(28, 28, 1)))\n",
    "    model.add(tf.keras.layers.Conv2D(64, (3, 3), activation='relu'))\n",
    "    model.add(tf.keras.layers.MaxPooling2D(pool_size=(2, 2)))\n",
    "    model.add(tf.keras.layers.Dropout(0.25))\n",
    "    model.add(tf.keras.layers.Flatten())\n",
    "    model.add(tf.keras.layers.Dense(256, activation='relu'))\n",
    "    model.add(tf.keras.layers.Dropout(0.5))\n",
    "    model.add(tf.keras.layers.Dense(10, activation='softmax'))\n",
    "\n",
    "    model.compile(optimizer='adam',\n",
    "                  loss='sparse_categorical_crossentropy',\n",
    "                  metrics=['accuracy'])\n",
    "\n",
    "    model.fit(x_train, y_train, epochs=EPOCAS_Q4)\n",
    "    \n",
    "    resultados_q4.append(model.evaluate(x_test, y_test))"
   ]
  },
  {
   "cell_type": "markdown",
   "metadata": {},
   "source": [
    "Vamos calcular a média dos resultados:"
   ]
  },
  {
   "cell_type": "code",
   "execution_count": null,
   "metadata": {
    "scrolled": true
   },
   "outputs": [],
   "source": [
    "media_q4 = 0\n",
    "for resultado in resultados_q4:\n",
    "    media_q4 += resultado[1]\n",
    "media_q4 /= len(resultados_q4)\n",
    "print(media_q4)"
   ]
  },
  {
   "cell_type": "markdown",
   "metadata": {},
   "source": [
    "Vamos salvar os dados do treinamento:"
   ]
  },
  {
   "cell_type": "code",
   "execution_count": null,
   "metadata": {},
   "outputs": [],
   "source": [
    "model_json = model.to_json()\n",
    "json_file = open(\"model_CNN.json\", \"w\")\n",
    "json_file.write(model_json)\n",
    "json_file.close()\n",
    "model.save_weights(\"model_CNN.h5\")\n",
    "print(\"Model saved to disk\")\n",
    "os.getcwd()"
   ]
  },
  {
   "cell_type": "markdown",
   "metadata": {},
   "source": [
    "Tabela comparativa das arquitetura:\n",
    "\n",
    "|Método |performance |\n",
    "|--------------------|-----------|\n",
    "|Classificador Linear|   85.05   |\n",
    "|      MLP           |   98.26   |\n",
    "|      CNN           |   99.26   |"
   ]
  },
  {
   "cell_type": "markdown",
   "metadata": {},
   "source": [
    "Pode-se notar que a MLP e CNN obtêm performances parecidas e acima do classificador linear. Assim pode-se concluir que a não linearidade da MLP e da CNN permitem à máquina de classificação se adequar melhor aos dados fornecidos sem que isso cause overfitting.\n",
    "\n",
    "Considerando o tempo de treinamento, o classificador linear e a CNN levam mais tempo do que a MLP, porém imaginando que a máquina de classificação será treinada somente uma vez antes do seu uso, esse tempo não terá impacto no funcionamento do classificador."
   ]
  }
 ],
 "metadata": {
  "kernelspec": {
   "display_name": "Python 3",
   "language": "python",
   "name": "python3"
  },
  "language_info": {
   "codemirror_mode": {
    "name": "ipython",
    "version": 3
   },
   "file_extension": ".py",
   "mimetype": "text/x-python",
   "name": "python",
   "nbconvert_exporter": "python",
   "pygments_lexer": "ipython3",
   "version": "3.7.4"
  }
 },
 "nbformat": 4,
 "nbformat_minor": 2
}
