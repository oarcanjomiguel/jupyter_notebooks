{
 "cells": [
  {
   "cell_type": "markdown",
   "metadata": {
    "colab_type": "text",
    "id": "s1S9tjbA-n01"
   },
   "source": [
    "# IA353 - Redes Neurais\n",
    "# EFC3 - Questão 5"
   ]
  },
  {
   "cell_type": "markdown",
   "metadata": {},
   "source": [
    "## Autoencoder training and manifold visualization\n",
    "## Partially based on https://www.kaggle.com/apapiu/manifold-learning-and-autoencoders"
   ]
  },
  {
   "cell_type": "markdown",
   "metadata": {
    "colab_type": "text",
    "id": "ooFJycJs-n03"
   },
   "source": [
    "**Professor:** Fernando J. Von Zuben <br>\n",
    "**Aluno(a):**  "
   ]
  },
  {
   "cell_type": "markdown",
   "metadata": {},
   "source": [
    "### 5.1. Imports"
   ]
  },
  {
   "cell_type": "code",
   "execution_count": null,
   "metadata": {},
   "outputs": [],
   "source": [
    "import tensorflow as tf\n",
    "import os\n",
    "\n",
    "import warnings\n",
    "warnings.filterwarnings('ignore')\n",
    "\n",
    "import numpy as np\n",
    "import pandas as pd\n",
    "import matplotlib.pyplot as plt\n",
    "\n",
    "from sklearn import metrics\n",
    "from sklearn.neighbors import NearestNeighbors\n",
    "\n",
    "from keras.models import Sequential, Model\n",
    "from keras.layers import Dense, Dropout, Convolution2D, MaxPooling2D, Flatten, Input\n",
    "from keras.optimizers import adam\n",
    "from keras.utils.np_utils import to_categorical"
   ]
  },
  {
   "cell_type": "markdown",
   "metadata": {},
   "source": [
    "### 5.2. Reading the data"
   ]
  },
  {
   "cell_type": "code",
   "execution_count": null,
   "metadata": {},
   "outputs": [],
   "source": [
    "mnist = tf.keras.datasets.mnist\n",
    "(x_train, y_train),(x_test, y_test) = mnist.load_data()"
   ]
  },
  {
   "cell_type": "code",
   "execution_count": null,
   "metadata": {},
   "outputs": [],
   "source": [
    "x_train, x_test = x_train / 255.0, x_test / 255.0"
   ]
  },
  {
   "cell_type": "code",
   "execution_count": null,
   "metadata": {},
   "outputs": [],
   "source": [
    "x_images = x_train.reshape(x_train.shape[0], 28, 28)"
   ]
  },
  {
   "cell_type": "code",
   "execution_count": null,
   "metadata": {},
   "outputs": [],
   "source": [
    "# Definition of a function to visualize some digits\n",
    "def show(img):\n",
    "    plt.imshow(img, cmap = \"gray\", interpolation = \"none\")"
   ]
  },
  {
   "cell_type": "code",
   "execution_count": null,
   "metadata": {},
   "outputs": [],
   "source": [
    "# Visualization of 25 x 25 original images of digits\n",
    "fig = plt.figure(figsize=(28,28))\n",
    "ind = 1\n",
    "for i in range(1, 26, 1):\n",
    "    for j in range(1, 26, 1):\n",
    "        fig.add_subplot(25,25,ind)\n",
    "        show(x_images[ind])\n",
    "        plt.xticks([])\n",
    "        plt.yticks([])\n",
    "        ind+=1"
   ]
  },
  {
   "cell_type": "markdown",
   "metadata": {},
   "source": [
    "### 5.3 Proposal for the autoencoder architecture"
   ]
  },
  {
   "cell_type": "code",
   "execution_count": null,
   "metadata": {},
   "outputs": [],
   "source": [
    "input_img = Input(shape=(784,))\n",
    "\n",
    "encoded = Dense(512, activation='tanh')(input_img)\n",
    "encoded = Dense(128, activation='tanh')(encoded)\n",
    "encoded = Dense(32, activation='tanh')(encoded)\n",
    "\n",
    "encoded = Dense(2)(encoded) # Linear activation function at the bottleneck\n",
    "\n",
    "decoded = Dense(32, activation='tanh')(encoded)\n",
    "decoded = Dense(128, activation='tanh')(decoded)\n",
    "decoded = Dense(512, activation='tanh')(decoded)\n",
    "\n",
    "decoded = Dense(784, activation = 'sigmoid')(decoded)\n",
    "\n",
    "autoencoder = Model(input=input_img, output=decoded)"
   ]
  },
  {
   "cell_type": "code",
   "execution_count": null,
   "metadata": {},
   "outputs": [],
   "source": [
    "autoencoder.summary()"
   ]
  },
  {
   "cell_type": "code",
   "execution_count": null,
   "metadata": {},
   "outputs": [],
   "source": [
    "autoencoder.compile(optimizer = \"adam\", loss = \"mse\")\n",
    "X = x_train.reshape(x_train.shape[0], 784)\n",
    "history = autoencoder.fit(X, X, batch_size = 128, nb_epoch = 50, verbose = 1)"
   ]
  },
  {
   "cell_type": "code",
   "execution_count": null,
   "metadata": {},
   "outputs": [],
   "source": [
    "plot_df = pd.DataFrame.from_dict({'train_loss':history.history['loss']})\n",
    "plot_df.plot(logy=True, figsize=(15,5), fontsize=12)\n",
    "plt.xlabel('epoch', fontsize=12)\n",
    "plt.ylabel('loss', fontsize=12)\n",
    "plt.show()"
   ]
  },
  {
   "cell_type": "code",
   "execution_count": null,
   "metadata": {
    "scrolled": true
   },
   "outputs": [],
   "source": [
    "# Visualization of 25 x 25 reconstructed images of digits\n",
    "fig = plt.figure(figsize=(28,28))\n",
    "ind = 1\n",
    "for i in range(1, 26, 1):\n",
    "    for j in range(1, 26, 1):\n",
    "        fig.add_subplot(25,25,ind)\n",
    "        show(autoencoder.predict(np.expand_dims(x_images[ind].flatten(), 0)).reshape(28, 28))\n",
    "        plt.xticks([])\n",
    "        plt.yticks([])\n",
    "        ind+=1"
   ]
  },
  {
   "cell_type": "code",
   "execution_count": null,
   "metadata": {},
   "outputs": [],
   "source": [
    "encoder = Model(input = input_img, output = encoded)\n",
    "\n",
    "# Building the decoder\n",
    "encoded_input = Input(shape=(2,))\n",
    "encoded_layer_1 = autoencoder.layers[-4]\n",
    "encoded_layer_2 = autoencoder.layers[-3]\n",
    "encoded_layer_3 = autoencoder.layers[-2]\n",
    "encoded_layer_4 = autoencoder.layers[-1]\n",
    "\n",
    "decoder = encoded_layer_1(encoded_input)\n",
    "decoder = encoded_layer_2(decoder)\n",
    "decoder = encoded_layer_3(decoder)\n",
    "decoder = encoded_layer_4(decoder)\n",
    "decoder = Model(input=encoded_input, output=decoder)"
   ]
  },
  {
   "cell_type": "markdown",
   "metadata": {},
   "source": [
    "### 5.4 Visualizing the mapping of the labeled images in the manifold"
   ]
  },
  {
   "cell_type": "code",
   "execution_count": null,
   "metadata": {
    "_cell_guid": "18294c61-7ee2-4ac1-5ab0-a4e9035c7a30",
    "_uuid": "fde6d4c8694272391db41983762aa398f1e884d2"
   },
   "outputs": [],
   "source": [
    "import seaborn as sns\n",
    "\n",
    "x_flat = x_train.reshape(x_train.shape[0], x_train.shape[1] * x_train.shape[2])\n",
    "\n",
    "x_proj = encoder.predict(x_flat[:60000])\n",
    "x_proj.shape\n",
    "\n",
    "proj = pd.DataFrame(x_proj)\n",
    "proj.columns = [\"comp_1\", \"comp_2\"]\n",
    "proj[\"labels\"] = y_train[:60000]\n",
    "sns.lmplot(\"comp_1\", \"comp_2\", hue=\"labels\", data=proj, fit_reg=False)"
   ]
  },
  {
   "cell_type": "markdown",
   "metadata": {},
   "source": [
    "### 5.5. Generating new digits by moving along the manifold (latent 2D space)\n",
    "**Please, adjust the scale whenever necessary.**"
   ]
  },
  {
   "cell_type": "markdown",
   "metadata": {},
   "source": [
    "### 5.5.1 Moving along a circle"
   ]
  },
  {
   "cell_type": "code",
   "execution_count": null,
   "metadata": {},
   "outputs": [],
   "source": [
    "_ = sns.lmplot(\"comp_1\", \"comp_2\", hue=\"labels\", data=proj, fit_reg=False)\n",
    "all_x = [4 * np.cos(2 * np.pi / 100 * i) - 1 for i in range(100)]\n",
    "all_y = [4 * np.sin(2 * np.pi / 100 * i) - 2 for i in range(100)]\n",
    "_ = plt.plot(all_x, all_y, 'black')"
   ]
  },
  {
   "cell_type": "code",
   "execution_count": null,
   "metadata": {},
   "outputs": [],
   "source": [
    "# moving along a circle:\n",
    "_ = plt.figure(figsize=(10, 10))\n",
    "\n",
    "for i in range(100):\n",
    "    _ = plt.subplot(10, 10, i+1)\n",
    "    \n",
    "    x = 4 * np.cos(2 * np.pi / 100 * i) - 1\n",
    "    y = 4 * np.sin(2 * np.pi / 100 * i) - 2\n",
    "    \n",
    "    pt = np.array([[x, y]])\n",
    "    _ = show(decoder.predict(pt).reshape((28, 28)))\n",
    "    _ = plt.xticks([])\n",
    "    _ = plt.yticks([])"
   ]
  },
  {
   "cell_type": "markdown",
   "metadata": {},
   "source": [
    "### 5.5.2 Moving along an ellipse"
   ]
  },
  {
   "cell_type": "code",
   "execution_count": null,
   "metadata": {},
   "outputs": [],
   "source": [
    "_ = sns.lmplot(\"comp_1\", \"comp_2\", hue=\"labels\", data=proj, fit_reg=False)\n",
    "all_x = [6 * np.cos(2 * np.pi / 100 * i) - 1 for i in range(100)]\n",
    "all_y = [1 * np.sin(2 * np.pi / 100 * i) - 2 for i in range(100)]\n",
    "_ = plt.plot(all_x, all_y, 'black')"
   ]
  },
  {
   "cell_type": "code",
   "execution_count": null,
   "metadata": {},
   "outputs": [],
   "source": [
    "# moving along a elipse:\n",
    "_ = plt.figure(figsize=(10, 10))\n",
    "\n",
    "for i in range(100):\n",
    "    _ = plt.subplot(10, 10, i+1)\n",
    "    \n",
    "    x = 6 * np.cos(2 * np.pi / 100 * i) - 1\n",
    "    y = 1 * np.sin(2 * np.pi / 100 * i) - 2\n",
    "    \n",
    "    pt = np.array([[x, y]])\n",
    "    _ = show(decoder.predict(pt).reshape((28, 28)))\n",
    "    _ = plt.xticks([])\n",
    "    _ = plt.yticks([])"
   ]
  },
  {
   "cell_type": "markdown",
   "metadata": {},
   "source": [
    "### 5.5.3 Moving along a grid"
   ]
  },
  {
   "cell_type": "code",
   "execution_count": null,
   "metadata": {},
   "outputs": [],
   "source": [
    "# moving along a elipse:\n",
    "_ = plt.figure(figsize=(12, 12))\n",
    "\n",
    "for i in range(20):\n",
    "    for j in range(20):\n",
    "        \n",
    "        _ = plt.subplot(20, 20, i * 20 + j + 1)\n",
    "        \n",
    "        pt = np.array([[ -6 + 10 * i / 19, -6 + 10 * j / 19]])\n",
    "        _ = show(decoder.predict(pt).reshape((28, 28)))\n",
    "        _ = plt.xticks([])\n",
    "        _ = plt.yticks([])"
   ]
  },
  {
   "cell_type": "code",
   "execution_count": null,
   "metadata": {},
   "outputs": [],
   "source": []
  }
 ],
 "metadata": {
  "accelerator": "GPU",
  "colab": {
   "name": "Lorenzo_Misael_EFC2.ipynb",
   "provenance": []
  },
  "kernelspec": {
   "display_name": "Python 3",
   "language": "python",
   "name": "python3"
  },
  "language_info": {
   "codemirror_mode": {
    "name": "ipython",
    "version": 3
   },
   "file_extension": ".py",
   "mimetype": "text/x-python",
   "name": "python",
   "nbconvert_exporter": "python",
   "pygments_lexer": "ipython3",
   "version": "3.7.4"
  }
 },
 "nbformat": 4,
 "nbformat_minor": 2
}
